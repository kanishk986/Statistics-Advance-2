{
 "cells": [
  {
   "cell_type": "markdown",
   "metadata": {},
   "source": [
    "# Q1: What are the Probability Mass Function (PMF) and Probability Density Function (PDF)? Explain with an example."
   ]
  },
  {
   "cell_type": "markdown",
   "metadata": {},
   "source": [
    "PMF  characterizes the distribution for the discrete random variable for ex rolling a dice .\n",
    "Binomial distribution is an example of PMF ."
   ]
  },
  {
   "cell_type": "markdown",
   "metadata": {},
   "source": [
    "PDF characterizes the distribution for continous random variable such as height of students \n",
    "Normal distribution is example of PDF."
   ]
  },
  {
   "cell_type": "markdown",
   "metadata": {},
   "source": [
    "# Q2: What is Cumulative Density Function (CDF)? Explain with an example. Why CDF is used?"
   ]
  },
  {
   "cell_type": "markdown",
   "metadata": {},
   "source": [
    "CDF calculates the cumulative probabilty for given value. CDF gives the probability values till what we specify and for continuous distribution functions, it gives the area under the probability density function up to the given value specified. "
   ]
  },
  {
   "cell_type": "markdown",
   "metadata": {},
   "source": [
    "CDF is used to find out the likelihood of the random value will be equal to or less tham that particular value"
   ]
  },
  {
   "cell_type": "markdown",
   "metadata": {},
   "source": [
    "# Q3: What are some examples of situations where the normal distribution might be used as a model? Explain how the parameters of the normal distribution relate to the shape of the distribution."
   ]
  },
  {
   "cell_type": "markdown",
   "metadata": {},
   "source": [
    "Height of Students in a school is an example where normal distribution can be used \n",
    ",weight of students is another example of normal distribution"
   ]
  },
  {
   "cell_type": "markdown",
   "metadata": {},
   "source": [
    "Normal distribution is a symmetrical distribution where mean,mode ,median is same\n",
    "Normal distribution is basically a bell curve,if mean,mode,median of population increases than peak of bell curve increases\n",
    "and if the standard deviation of population increases than bell curve gets more wider \n"
   ]
  },
  {
   "cell_type": "markdown",
   "metadata": {},
   "source": [
    "# Q4: Explain the importance of Normal Distribution. Give a few real-life examples of Normal Distribution."
   ]
  },
  {
   "cell_type": "markdown",
   "metadata": {},
   "source": [
    "There are many population data that follows normal distribution ,for ex hight weight ,age data \n",
    ",Normal distribution can be used to get important information from these datasets"
   ]
  },
  {
   "cell_type": "markdown",
   "metadata": {},
   "source": [
    "In CLT sample mean also forms a normal distribution which can be used to get sample mean and standard deviation\n",
    "that can be further used to approximate population mean and standard deviation"
   ]
  },
  {
   "cell_type": "markdown",
   "metadata": {},
   "source": [
    "# Q5: What is Bernaulli Distribution? Give an Example. What is the difference between Bernoulli Distribution and Binomial Distribution?"
   ]
  },
  {
   "cell_type": "markdown",
   "metadata": {},
   "source": [
    "Bernoulli distribution is a special case binomial distribution where trial is conducted multiple time .Tosing a coin multiple times is an example of Bernaouli distribution ."
   ]
  },
  {
   "cell_type": "markdown",
   "metadata": {},
   "source": [
    "Binomial distribution is discrete probability distribution where number of outcomes are two only .If such trial is conducted multiple time than it becomes a bernouli distribution "
   ]
  },
  {
   "cell_type": "markdown",
   "metadata": {},
   "source": [
    "# Q6. Consider a dataset with a mean of 50 and a standard deviation of 10. If we assume that the dataset is normally distributed, what is the probability that a randomly selected observation will be greater than 60? Use the appropriate formula and show your calculations."
   ]
  },
  {
   "cell_type": "markdown",
   "metadata": {},
   "source": [
    "If mean is 50 and std is 10 than dataset will look somewhat like \n",
    "\n",
    "10,20,30,40,50,60,70,80,90"
   ]
  },
  {
   "cell_type": "markdown",
   "metadata": {},
   "source": [
    "Lets calculate z-score \n",
    "\n",
    "(60-50)/10=1\n",
    "\n",
    "Now we will find area under curve using z table i.e0.8413\n",
    "\n",
    "for greater than 60 it will be 1-0.8413=0.1587=15.87%"
   ]
  },
  {
   "cell_type": "markdown",
   "metadata": {},
   "source": [
    "# Q7: Explain uniform Distribution with an example."
   ]
  },
  {
   "cell_type": "markdown",
   "metadata": {},
   "source": [
    "In uniform distribution all the outcomes have the same probabilty ,for \n",
    "ex rolling a dice with probability of 1/6 "
   ]
  },
  {
   "cell_type": "markdown",
   "metadata": {},
   "source": [
    "In a discrete uniform distribution, outcomes are discrete and have the same probability.\n",
    "\n",
    "In a continuous uniform distribution, outcomes are continuous and infinite."
   ]
  },
  {
   "cell_type": "markdown",
   "metadata": {},
   "source": [
    "# Q8: What is the z score? State the importance of the z score."
   ]
  },
  {
   "cell_type": "markdown",
   "metadata": {},
   "source": [
    "Z-score tells how many stadard deviation your data is from mean.Z score\n",
    "is also used to make standard normal distribution from normal distribution"
   ]
  },
  {
   "cell_type": "markdown",
   "metadata": {},
   "source": [
    "z score=(X-mean)/standard deviation"
   ]
  },
  {
   "cell_type": "markdown",
   "metadata": {},
   "source": [
    "# Q9: What is Central Limit Theorem? State the significance of the Central Limit Theorem."
   ]
  },
  {
   "cell_type": "markdown",
   "metadata": {},
   "source": [
    "he central limit theorem (CLT) states that the distribution of sample means approximates a normal distribution as the sample size gets larger, regardless of the population's distribution."
   ]
  },
  {
   "cell_type": "markdown",
   "metadata": {},
   "source": [
    "CLT can be used to aproximate the population mean and standard deviation \n",
    "using sample mean and standard deviation"
   ]
  },
  {
   "cell_type": "markdown",
   "metadata": {},
   "source": [
    "# Q10: State the assumptions of the Central Limit Theorem."
   ]
  },
  {
   "cell_type": "markdown",
   "metadata": {},
   "source": [
    "Before we move on further, it is important to understand the assumptions behind CLT:\n",
    "\n",
    "The data must adhere to the randomization rule. It needs to be sampled at random.\n",
    "\n",
    "The samples should be unrelated to one another. One sample should not impact the others.\n",
    "\n",
    "When taking samples without replacement, the sample size should not exceed 10% of the population."
   ]
  },
  {
   "cell_type": "code",
   "execution_count": null,
   "metadata": {},
   "outputs": [],
   "source": []
  }
 ],
 "metadata": {
  "kernelspec": {
   "display_name": "Python 3",
   "language": "python",
   "name": "python3"
  },
  "language_info": {
   "codemirror_mode": {
    "name": "ipython",
    "version": 3
   },
   "file_extension": ".py",
   "mimetype": "text/x-python",
   "name": "python",
   "nbconvert_exporter": "python",
   "pygments_lexer": "ipython3",
   "version": "3.8.5"
  }
 },
 "nbformat": 4,
 "nbformat_minor": 4
}
